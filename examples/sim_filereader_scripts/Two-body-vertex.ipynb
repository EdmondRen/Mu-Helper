{
 "cells": [
  {
   "cell_type": "code",
   "execution_count": 1,
   "id": "e06ff11c-af05-4244-9f2d-5b782541d46b",
   "metadata": {},
   "outputs": [
    {
     "name": "stderr",
     "output_type": "stream",
     "text": [
      "/bin/bash: warning: setlocale: LC_ALL: cannot change locale (en_US.UTF-8)\n"
     ]
    },
    {
     "name": "stdout",
     "output_type": "stream",
     "text": [
      "Welcome to JupyROOT 6.24/06\n",
      "\n",
      "\u001b[1mRooFit v3.60 -- Developed by Wouter Verkerke and David Kirkby\u001b[0m \n",
      "                Copyright (C) 2000-2013 NIKHEF, University of California & Stanford University\n",
      "                All rights reserved, please read http://roofit.sourceforge.net/license.txt\n",
      "\n"
     ]
    }
   ],
   "source": [
    "import sys,os\n",
    "from pathlib import Path\n",
    "# ana_helper_path = Path(\"/project/def-mdiamond/tomren/jupyter/Ana_Helper/anahelper/\")\n",
    "ana_helper_path = \"/project/def-mdiamond/tomren/jupyter/Ana_Helper/anahelper/\"\n",
    "sys.path.append(ana_helper_path)\n",
    "\n",
    "%run \"/project/def-mdiamond/tomren/jupyter/Ana_Helper/anahelper/common_import.ipynb\"\n",
    "\n",
    "\n",
    "\n",
    "import numpy as np\n",
    "import pylorentz\n",
    "import random\n",
    "\n",
    "\n",
    "import sim_filereader_helper as sh\n",
    "\n",
    "DATA_DIR    = \"/project/def-mdiamond/tomren/mathusla/data/\""
   ]
  },
  {
   "cell_type": "markdown",
   "id": "dce8dafc-bfe2-469b-83c4-c330e68fdd3b",
   "metadata": {},
   "source": [
    "# Generate two-body decay vertex \n",
    "\n",
    "* Primary particle M=4000 MeV, P=4000 MeV   \n",
    "* Vertex at (450.0, 7500, 10500) CMS coordinate  \n",
    "* decayproduct_pid specifies two muons\n",
    "\n",
    "The output script can be directly used for simulation:   \n",
    "`simulation -q -o /home/tomren/mathusla/data/vertex_gun_debug/test_2decay_m4GeV_p40GeV -s /home/tomren/mathusla/data/fit_study_6layer/log/test_2decay_m4GeV_p40GeV.mac`"
   ]
  },
  {
   "cell_type": "code",
   "execution_count": 2,
   "id": "15cb6ccf-2a25-40e5-9c7e-a3e5b52b6672",
   "metadata": {},
   "outputs": [
    {
     "name": "stdout",
     "output_type": "stream",
     "text": [
      "File exists!\n",
      "Script saved at /home/tomren/mathusla/data/fit_study_6layer/log/test_2decay_m4GeV_p4GeV.mac\n"
     ]
    },
    {
     "data": {
      "text/plain": [
       "'/home/tomren/mathusla/data/fit_study_6layer/log/test_2decay_m4GeV_p4GeV.mac'"
      ]
     },
     "execution_count": 2,
     "metadata": {},
     "output_type": "execute_result"
    }
   ],
   "source": [
    "filename=\"/home/tomren/mathusla/data/fit_study_6layer/log/test_2decay_m4GeV_p4GeV.txt\"\n",
    "M=4000\n",
    "P=4000\n",
    "coord = [450.0, 7500, 10500]\n",
    "\n",
    "sh.generate_twobody_decay_file(filename, M, P, coord, decayproduct_pid=[13,13], Nevents=40, OVER_WRITE=True)\n",
    "sh.generate_sim_script_filereader(filename)"
   ]
  }
 ],
 "metadata": {
  "kernelspec": {
   "display_name": "Singularity V04-07",
   "language": "python",
   "name": "cdms_v04-07"
  },
  "language_info": {
   "codemirror_mode": {
    "name": "ipython",
    "version": 3
   },
   "file_extension": ".py",
   "mimetype": "text/x-python",
   "name": "python",
   "nbconvert_exporter": "python",
   "pygments_lexer": "ipython3",
   "version": "3.8.10"
  }
 },
 "nbformat": 4,
 "nbformat_minor": 5
}
