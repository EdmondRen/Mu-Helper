{
 "cells": [
  {
   "cell_type": "code",
   "execution_count": 1,
   "id": "e06ff11c-af05-4244-9f2d-5b782541d46b",
   "metadata": {},
   "outputs": [
    {
     "name": "stderr",
     "output_type": "stream",
     "text": [
      "/bin/bash: warning: setlocale: LC_ALL: cannot change locale (en_US.UTF-8)\n"
     ]
    },
    {
     "name": "stdout",
     "output_type": "stream",
     "text": [
      "Welcome to JupyROOT 6.24/06\n",
      "\n",
      "\u001b[1mRooFit v3.60 -- Developed by Wouter Verkerke and David Kirkby\u001b[0m \n",
      "                Copyright (C) 2000-2013 NIKHEF, University of California & Stanford University\n",
      "                All rights reserved, please read http://roofit.sourceforge.net/license.txt\n",
      "\n"
     ]
    }
   ],
   "source": [
    "import sys,os\n",
    "from pathlib import Path\n",
    "# ana_helper_path = Path(\"/project/def-mdiamond/tomren/jupyter/Ana_Helper/anahelper/\")\n",
    "ana_helper_path = \"/project/def-mdiamond/tomren/jupyter/Ana_Helper/anahelper/\"\n",
    "sys.path.append(ana_helper_path)\n",
    "\n",
    "%run \"/project/def-mdiamond/tomren/jupyter/Ana_Helper/anahelper/common_import.ipynb\"\n",
    "\n",
    "\n",
    "\n",
    "import numpy as np\n",
    "import pylorentz\n",
    "import random\n",
    "\n",
    "\n",
    "import sim_filereader_helper as sh\n",
    "\n",
    "DATA_DIR    = \"/project/def-mdiamond/tomren/mathusla/data/\""
   ]
  },
  {
   "cell_type": "markdown",
   "id": "de1a65c2-57c0-4826-be47-5435bfa7f730",
   "metadata": {},
   "source": [
    "# Format of the filreader genereator input:"
   ]
  },
  {
   "cell_type": "raw",
   "id": "a1517753-3eaa-41ca-8810-59bc17b129ff",
   "metadata": {},
   "source": [
    "## Format:\n",
    "## First line is the total number of events.\n",
    "## Each event consists of a header line for the vertex information, \n",
    "##   followed by lines that corresponds to secondary particles\n",
    "\n",
    "## For example:\n",
    "## -----------------------------------------------------------------------\n",
    "\n",
    "\n",
    "## First line (update the number to be the number of events:\n",
    "# nevents 2\n",
    "\n",
    "\n",
    "\n",
    "## Event 1 header (Primary partile. It will not be generated, only for bookkeeping) :\n",
    "## Format: \"n 1 Vertex_PDGID  Vertex_x[mm]   Vertex_y[mm]   Vertex_z[mm]       Vertex_px[MeV]    Vertex_py[MeV]          Vertex_pz[MeV]\"\n",
    "n 1              13                0.0             0.0             0.0              0.0              10.0                 -4000.0\n",
    "\n",
    "## Event 1 content:\n",
    "## Format: \"   particle_PDGID particle_x[mm]   particle_y[mm]   particle_z[mm]   particle_px[MeV]  particle_py[MeV]    particle_pz[MeV]\"\n",
    "                 13           124500.0          4500.0          2000.0              0.0              10.0                -4000.0\n",
    "                 13           124500.0          4500.0          2000.0              100.0            433.0               -4000.0\n",
    "                 11           124500.0          4500.0          2000.0              400.0            222.0               -4000.0\n",
    "                 \n",
    "\n",
    "## You can add arbiturary number of events....\n",
    "## ....\n",
    "                                 \n",
    "n 2              13                0.0             0.0             0.0              0.0              10.0                -4000.0\n",
    "                 13           124500.0          4500.0          2000.0              0.0               0.0                -4000.0\n",
    "                 13           124500.0          4500.0          2000.0              100.0             0.0                -4000.0       "
   ]
  },
  {
   "cell_type": "code",
   "execution_count": null,
   "id": "01fcd08d-6ad4-40d2-959d-214e2d8d0501",
   "metadata": {},
   "outputs": [],
   "source": [
    "#-------------------\n",
    "# 1. Gun at the center of the module\n",
    "vertex = np.array([124.5, 5, 1])*1000 # mm\n",
    "nevents = 160_000 # number of events\n",
    "p_mag = 100_000 # MeV/c\n",
    "rng = np.random.default_rng(seed=1)\n",
    "theta_range=np.arctan(44.5/8)\n",
    "data_filename = \"scripts/muon_large_angle.txt\"\n",
    "\n",
    "# Save the filereader data\n",
    "with open(data_filename,\"w+\")  as f:\n",
    "    f.write(f\"# nevents {nevents}\\n\")\n",
    "    for i in range(nevents):\n",
    "        theta = rng.uniform(-theta_range, theta_range)\n",
    "        phi = rng.uniform(0, 2*np.pi)\n",
    "        p_unit=np.array([np.sin(theta)*np.cos(phi), np.sin(theta)*np.sin(phi), -np.cos(theta)])\n",
    "        p_unit=p_unit/np.sqrt(np.sum(p_unit**2))\n",
    "        p = p_mag*p_unit\n",
    "        f.write(f\"n {i}\\n\")\n",
    "        f.write(f\"\\t 13 \\t {vertex[0]} \\t {vertex[1]} \\t {vertex[2]}  \\t {p[0]} \\t {p[1]} \\t {p[2]} \\n\")\n",
    "        \n",
    "        \n",
    "# Save a G4 script        \n",
    "with open(os.path.splitext(data_filename)[0]+\".mac\",\"w+\")  as f:\n",
    "    f.write(f\"/det/select Box \\n\")\n",
    "    f.write(f\"/gen/select file_reader \\n\")\n",
    "    f.write(f\"/gen/file_reader/pathname {os.path.abspath(data_filename)} \\n\")\n",
    "    f.write(f\"/run/beamOn {nevents} \\n\")"
   ]
  }
 ],
 "metadata": {
  "kernelspec": {
   "display_name": "Singularity V04-07",
   "language": "python",
   "name": "cdms_v04-07"
  },
  "language_info": {
   "codemirror_mode": {
    "name": "ipython",
    "version": 3
   },
   "file_extension": ".py",
   "mimetype": "text/x-python",
   "name": "python",
   "nbconvert_exporter": "python",
   "pygments_lexer": "ipython3",
   "version": "3.8.10"
  }
 },
 "nbformat": 4,
 "nbformat_minor": 5
}
