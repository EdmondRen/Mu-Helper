{
 "cells": [
  {
   "cell_type": "code",
   "execution_count": null,
   "id": "fe371ef1-fb4d-4781-813b-574b4db7372b",
   "metadata": {},
   "outputs": [],
   "source": [
    "#!/usr/bin/env python\n",
    "# import analyzer\n",
    "import importlib\n",
    "from importlib import reload\n",
    "import os, sys, glob, warnings, glob\n",
    "import scipy\n",
    "import numpy as np\n",
    "import scipy as sp\n",
    "import joblib\n",
    "# from tqdm.notebook import tqdm\n",
    "from tqdm import tqdm\n",
    "import copy as cp\n",
    "\n",
    "# ROOT\n",
    "import ROOT as root\n",
    "\n",
    "# Matplotlib\n",
    "import matplotlib.pyplot as plt\n",
    "from matplotlib import collections, colors, transforms\n",
    "from pylab import *\n",
    "\n",
    "\n",
    "\n",
    "\n",
    "import pprint\n",
    "pp = pprint.PrettyPrinter(indent=4)\n",
    "\n",
    "\n",
    "# -------------------------\n",
    "# All other scripits\n",
    "import include_modules_root as rt\n",
    "# Figure configuration are saved in this file include_figure_preset.py\n",
    "from include_figure_preset import * \n",
    "# Set Figure font family, fontsize, ticks, etc.\n",
    "plt_config(family=\"san-serif\", fontsize_multi=1) # or \"serif\", or an exact font name\n",
    "\n",
    "\n",
    "# %matplotlib widget\n",
    "%matplotlib inline\n",
    "%config InlineBackend.figure_format='retina'\n",
    "# Redefine a function to save figures with common settings \n",
    "fig_prefix = \"plots/\"    # It's good to keep figures in a separate folder. Can also be set to None.\n",
    "fig_format = \"jpg\"      # for multiple formats, e.g.: \"pdf,png\"\n",
    "SAVE_FIG = False         # Use this flag to turn the figure saving on or off, so that you don't need to modify all notebook to save figure.\n",
    "# You can then do `savefig(filename_without_extension)` to save your plots with these settings\n",
    "savefig = Save_fig(fig_prefix=fig_prefix, exts=fig_format, SAVE= SAVE_FIG, dpi=300)"
   ]
  }
 ],
 "metadata": {
  "kernelspec": {
   "display_name": "Singularity V04-07",
   "language": "python",
   "name": "cdms_v04-07"
  },
  "language_info": {
   "codemirror_mode": {
    "name": "ipython",
    "version": 3
   },
   "file_extension": ".py",
   "mimetype": "text/x-python",
   "name": "python",
   "nbconvert_exporter": "python",
   "pygments_lexer": "ipython3",
   "version": "3.8.10"
  }
 },
 "nbformat": 4,
 "nbformat_minor": 5
}
